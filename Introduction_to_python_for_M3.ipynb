{
  "metadata": {
    "language_info": {
      "codemirror_mode": {
        "name": "python",
        "version": 3
      },
      "file_extension": ".py",
      "mimetype": "text/x-python",
      "name": "python",
      "nbconvert_exporter": "python",
      "pygments_lexer": "ipython3",
      "version": "3.8"
    },
    "kernelspec": {
      "name": "python",
      "display_name": "Pyolite",
      "language": "python"
    }
  },
  "nbformat_minor": 4,
  "nbformat": 4,
  "cells": [
    {
      "cell_type": "markdown",
      "source": "# Eine praktische Einführung in Python\n\nPython ist eine Programmiersprache, die Ihnen das Leben als Physikstudent/in erleichtern wird.\n\nLasst uns beginnen!\n\n## Plotting:\n\nSchauen Sie sich den folgenden kurzen Code an:",
      "metadata": {}
    },
    {
      "cell_type": "code",
      "source": "import matplotlib.pyplot as plt\nplt.plot([1, 2, 3, 4])\nplt.ylabel('some numbers')\nplt.show()",
      "metadata": {
        "trusted": true
      },
      "execution_count": null,
      "outputs": []
    },
    {
      "cell_type": "markdown",
      "source": "Dieser Code erzeugt eine simple grafische Darstellung. Lassen Sie uns den Code Zeile für Zeile verstehen.",
      "metadata": {}
    },
    {
      "cell_type": "code",
      "source": "import matplotlib.pyplot",
      "metadata": {
        "trusted": true
      },
      "execution_count": null,
      "outputs": []
    },
    {
      "cell_type": "markdown",
      "source": "matplotlib ist ein Paket von Python, es ist sehr nützlich zum Plotten.\nMit der obiger Zeile importieren wir das Paket.",
      "metadata": {}
    },
    {
      "cell_type": "code",
      "source": "import matplotlib.pyplot as plt",
      "metadata": {
        "trusted": true
      },
      "execution_count": null,
      "outputs": []
    },
    {
      "cell_type": "markdown",
      "source": "Mit dem zweiten Teil der Zeile benennen wir das Paket in plt um. Auf diese Weise können wir dann einfach plt.plot() anstatt matplotlib.pyplot.plot() schreiben.\nDadurch wird der Code verständlicher.",
      "metadata": {}
    },
    {
      "cell_type": "code",
      "source": "plt.plot([1, 2, 3, 4])",
      "metadata": {
        "trusted": true
      },
      "execution_count": null,
      "outputs": []
    },
    {
      "cell_type": "markdown",
      "source": "Diese Zeile plottet die Zahlen 1,2,3,4.\n\nFalls Sie Ihr wissen über die Funktion plot() vertiefen möchten, können Sie einfach \"matplotlib plot\" googeln und Sie werden die folgende Seite finden: https://matplotlib.org/3.5.0/api/_as_gen/matplotlib.pyplot.plot.html, die Ihnen die Funktion plot() und alles, was sie tun kann, ausführlicher erklärt!\nZum Beispiel können Sie den Marker-Stil und die Marker-Farbe sehr einfach auswählen!",
      "metadata": {}
    },
    {
      "cell_type": "code",
      "source": "plt.ylabel('some numbers')",
      "metadata": {
        "trusted": true
      },
      "execution_count": null,
      "outputs": []
    },
    {
      "cell_type": "markdown",
      "source": "Die obrige Zeile setzt die Schrift an der y-Achse zu 'some numbers'. Ebenso können Sie ein sogenantes \"label\" für die x-Achse setzen! Lasst es uns versuchen:",
      "metadata": {}
    },
    {
      "cell_type": "code",
      "source": "plt.xlabel('I am an x label')",
      "metadata": {
        "trusted": true
      },
      "execution_count": null,
      "outputs": []
    },
    {
      "cell_type": "markdown",
      "source": "Die nächste Zeile braucht man für die graphische Darstellung zu generieren. Ohne sie werden Sie keine Darstellung sehen:",
      "metadata": {}
    },
    {
      "cell_type": "code",
      "source": "plt.show()",
      "metadata": {
        "trusted": true
      },
      "execution_count": null,
      "outputs": []
    },
    {
      "cell_type": "markdown",
      "source": "Sie können sehen, dass wir jetzt auch eine X-Achsenbeschriftung haben!\n\nLassen Sie uns nun Punkte haben, die sowohl x- als auch y-Werte haben:",
      "metadata": {}
    },
    {
      "cell_type": "code",
      "source": "plt.plot([1, 2, 3, 4], [1, 2, 15, 20])\nplt.xlabel('xlabel')\nplt.ylabel('ylabel')\nplt.show()",
      "metadata": {
        "trusted": true
      },
      "execution_count": null,
      "outputs": []
    },
    {
      "cell_type": "markdown",
      "source": "Sie können sehen, dass sich die Figur geändert hat!\n\nLassen Sie uns eine Markierung setzen und mit dem Markierungs- und Linienstil herumspielen:",
      "metadata": {}
    },
    {
      "cell_type": "code",
      "source": "plt.plot([1, 2, 3, 4], [1, 2, 15, 20], 'ro--')\nplt.xlabel('xlabel')\nplt.ylabel('ylabel')\nplt.show()",
      "metadata": {
        "trusted": true
      },
      "execution_count": null,
      "outputs": []
    },
    {
      "cell_type": "markdown",
      "source": "'r' steht für rot und 'o' für den Markierungsstil, '--' weist den Plot an, eine gestrichelte Linie zu machen.\n\nEine Referenz für den Markerstyle: https://matplotlib.org/stable/api/markers_api.html\n\nEine Referenz für die Markerfarbe: https://matplotlib.org/2.1.2/api/_as_gen/matplotlib.pyplot.plot.html\n\nEine Referenz für den Linienstil: https://matplotlib.org/3.0.3/gallery/lines_bars_and_markers/line_styles_reference.html\n\nAuch hier gilt, wie immer beim Programmieren: Google ist dein bester Freund!",
      "metadata": {}
    },
    {
      "cell_type": "code",
      "source": "plt.plot([1, 2, 3, 4], [1, 2, 15, 20], 'kD-.')\nplt.xlabel('xlabel')\nplt.ylabel('ylabel')\nplt.show()",
      "metadata": {
        "trusted": true
      },
      "execution_count": null,
      "outputs": []
    },
    {
      "cell_type": "markdown",
      "source": "Other things you might find usefull:",
      "metadata": {}
    },
    {
      "cell_type": "code",
      "source": "plt.title('Hello I am a new title')\nplt.plot([1, 2, 3, 4], [1, 2, 15, 20], 'kD-.')\nplt.xlabel('xlabel')\nplt.ylabel('ylabel')\nplt.show()",
      "metadata": {
        "trusted": true
      },
      "execution_count": null,
      "outputs": []
    },
    {
      "cell_type": "code",
      "source": "plt.text(1.5, 16,'$\\mu=100,\\ \\sigma=15$')\nplt.plot([1, 2, 3, 4], [1, 2, 15, 20], 'kD-.')\nplt.xlabel('xlabel')\nplt.ylabel('ylabel')\nplt.show()",
      "metadata": {
        "trusted": true
      },
      "execution_count": null,
      "outputs": []
    },
    {
      "cell_type": "markdown",
      "source": "Beachten Sie, dass plt.text(x-Position, y-Position, Text).\n\nDer Text ist in Latex geschrieben und $ zeigen den Beginn und das Ende der Latexinterpretation an.",
      "metadata": {}
    },
    {
      "cell_type": "code",
      "source": "plt.grid(True)\nplt.plot([1, 2, 3, 4], [1, 2, 15, 20], 'kD-.')\nplt.xlabel('xlabel')\nplt.ylabel('ylabel')\nplt.show()",
      "metadata": {
        "trusted": true
      },
      "execution_count": null,
      "outputs": []
    },
    {
      "cell_type": "markdown",
      "source": "## Arrays:",
      "metadata": {}
    },
    {
      "cell_type": "code",
      "source": "import numpy as np",
      "metadata": {
        "trusted": true
      },
      "execution_count": null,
      "outputs": []
    },
    {
      "cell_type": "markdown",
      "source": "\"NumPy (Numerical Python) is an open source Python library that’s used in almost every field of science and engineering. It’s the universal standard for working with numerical data in Python\"",
      "metadata": {}
    },
    {
      "cell_type": "markdown",
      "source": "\"NumPy arrays are faster and more compact than Python lists. An array consumes less memory and is convenient to use.\"",
      "metadata": {}
    },
    {
      "cell_type": "code",
      "source": "a = np.array([1, 2, 3, 4, 5, 6])",
      "metadata": {
        "trusted": true
      },
      "execution_count": null,
      "outputs": []
    },
    {
      "cell_type": "code",
      "source": "print(a)",
      "metadata": {
        "trusted": true
      },
      "execution_count": null,
      "outputs": []
    },
    {
      "cell_type": "code",
      "source": "print(a[0])",
      "metadata": {
        "trusted": true
      },
      "execution_count": null,
      "outputs": []
    },
    {
      "cell_type": "markdown",
      "source": "Achtung! Die Numerierung fängt bei 0 and nicht 1!\n\nNumpy hat schön viele bereits implementierte funcitonen die Ihr brauchen könnt:",
      "metadata": {}
    },
    {
      "cell_type": "code",
      "source": "print(a.sum())",
      "metadata": {
        "trusted": true
      },
      "execution_count": null,
      "outputs": []
    },
    {
      "cell_type": "code",
      "source": "print(a.min())",
      "metadata": {
        "trusted": true
      },
      "execution_count": null,
      "outputs": []
    },
    {
      "cell_type": "code",
      "source": "print(a.max())",
      "metadata": {
        "trusted": true
      },
      "execution_count": null,
      "outputs": []
    },
    {
      "cell_type": "code",
      "source": "print(a.mean())",
      "metadata": {
        "trusted": true
      },
      "execution_count": null,
      "outputs": []
    },
    {
      "cell_type": "code",
      "source": "print(a.std())",
      "metadata": {
        "trusted": true
      },
      "execution_count": null,
      "outputs": []
    },
    {
      "cell_type": "markdown",
      "source": "Arrays können noch vieles mehr! Sie können mehrdimensinal sein, automatisch generiert werden, sortiert werde, etc.\n\nFür noch mehr nüzliche infors: https://numpy.org/doc/stable/reference/generated/numpy.ndarray.std.html oder einfach mal googlen!",
      "metadata": {}
    },
    {
      "cell_type": "markdown",
      "source": "## Fit:\n\nGoogelt!\nZ.B.: https://astrofrog.github.io/py4sci/_static/15.%20Fitting%20models%20to%20data.html ",
      "metadata": {}
    },
    {
      "cell_type": "markdown",
      "source": "### References:\n\nMatplotlib tutorial: https://matplotlib.org/stable/tutorials/introductory/pyplot.html\n\nFit etwas: https://astrofrog.github.io/py4sci/_static/15.%20Fitting%20models%20to%20data.html\n\nNumpy: https://numpy.org/doc/stable/reference/generated/numpy.ndarray.std.html\n\nplt.plot(): https://matplotlib.org/3.5.0/api/_as_gen/matplotlib.pyplot.plot.html\n",
      "metadata": {}
    },
    {
      "cell_type": "code",
      "source": "",
      "metadata": {},
      "execution_count": null,
      "outputs": []
    }
  ]
}